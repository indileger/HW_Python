{
  "cells": [
    {
      "cell_type": "markdown",
      "id": "8f868eb6",
      "metadata": {
        "id": "8f868eb6"
      },
      "source": [
        "# Homework 2 - Python\n",
        "\n",
        "First Name:Indira\n",
        "\n",
        "Last Name:Galimova\n",
        "\n",
        "Group:PD2023/2024"
      ]
    },
    {
      "cell_type": "markdown",
      "id": "f47683d8",
      "metadata": {
        "id": "f47683d8"
      },
      "source": [
        "## Task 1  (1.5 point)\n",
        "\n",
        "Let's develop the idea from the task in homework 1, now consider a 2D array, and you want to implement a program that not only shift to right or left, but also, it can shift up or down.\n",
        "\n",
        "In this scenario, the user need to insert four different arguments:\n",
        "\n",
        "1. Row shift or column shift? ('row' or 'column')\n",
        "\n",
        "2. Which direction? ('left', 'right' or 'top', 'down')\n",
        "\n",
        "3. Index of the column or row? (an integer index)\n",
        "\n",
        "4. How many elements need to be shifted? (integer number)"
      ]
    },
    {
      "cell_type": "code",
      "execution_count": 26,
      "id": "2d62ba3d",
      "metadata": {
        "colab": {
          "base_uri": "https://localhost:8080/"
        },
        "id": "2d62ba3d",
        "outputId": "8a54eca8-4406-4f51-ae0c-7e88aef8a56c"
      },
      "outputs": [
        {
          "output_type": "stream",
          "name": "stdout",
          "text": [
            "2D array:\n",
            "[1, 2, 3]\n",
            "[4, 5, 6]\n",
            "[7, 8, 9]\n",
            "Row shift or column shift?: row\n",
            "Which direction? (left/right for rows, top/down for columns): left\n",
            "Index of the column or row? (an integer index): 2\n",
            "How many elements need to be shifted? (integer number): 2\n",
            "New array:\n",
            "[1, 2, 3]\n",
            "[4, 5, 6]\n",
            "[9, 7, 8]\n"
          ]
        }
      ],
      "source": [
        "def shift_2d_array(arr, shift_type, direction, index, num_elements):\n",
        "    if shift_type == 'row':\n",
        "        if direction == 'left':\n",
        "            arr[index] = arr[index][num_elements:] + arr[index][:num_elements]\n",
        "        elif direction == 'right':\n",
        "            arr[index] = arr[index][-num_elements:] + arr[index][:-num_elements]\n",
        "    elif shift_type == 'column':\n",
        "        if direction == 'top':\n",
        "            arr[:num_elements], arr[num_elements:] = arr[-num_elements:], arr[:index] + arr[index+1:]\n",
        "        elif direction == 'down':\n",
        "            arr[-num_elements:], arr[:-num_elements] = arr[:num_elements], arr[num_elements:] + arr[:index]\n",
        "    else:\n",
        "        print(\"Invalid shift type. Please enter 'row' or 'column'.\")\n",
        "\n",
        "def main():\n",
        "    arr = [[1, 2, 3],\n",
        "           [4, 5, 6],\n",
        "           [7, 8, 9]]\n",
        "    print(\"2D array:\")\n",
        "    for row in arr:\n",
        "        print(row)\n",
        "    shift_type = input(\"Row shift or column shift?: \").lower()\n",
        "    direction = input(\"Which direction? (left/right for rows, top/down for columns): \").lower()\n",
        "    index = int(input(\"Index of the column or row? (an integer index): \"))\n",
        "    num_elements = int(input(\"How many elements need to be shifted? (integer number): \"))\n",
        "    shift_2d_array(arr, shift_type, direction, index, num_elements)\n",
        "    print(\"New array:\")\n",
        "    for row in arr:\n",
        "        print(row)\n",
        "\n",
        "if __name__ == \"__main__\":\n",
        "    main()"
      ]
    },
    {
      "cell_type": "markdown",
      "source": [],
      "metadata": {
        "id": "u-batUW3oNTP"
      },
      "id": "u-batUW3oNTP"
    },
    {
      "cell_type": "markdown",
      "id": "d03af2f7",
      "metadata": {
        "id": "d03af2f7"
      },
      "source": [
        "## Task 2 (1.5 point)\n",
        "\n",
        "Let's practice (if, elif, else). In this task you need to write a program that determins the result of the rock, paper, scissors game which is given by two players (Player 1 and Player 2). The program should print out the result.\n",
        "\n",
        "Rules of the game:\n",
        "- **Paper** beats **rock**\n",
        "- **Scissors** beats **paper**\n",
        "- **Rock** beats **scissors**\n",
        "\n",
        "To understand the logic, write all the combination of the choices for player 1 and player 2 to check the outsomes. It helps you to understand how to write the code.\n",
        "\n",
        "Example of the outcome:\n",
        "```\n",
        "Player 1? scissors\n",
        "Player 2? paper\n",
        "\n",
        "Player 1 wins.\n",
        "```\n",
        "\n",
        "The only valid inputs are `rock`, `paper`, `scissors`. In case the user imported something else, the program prints `\"This input is not valid for our game!\"`"
      ]
    },
    {
      "cell_type": "code",
      "execution_count": 6,
      "id": "53894434",
      "metadata": {
        "colab": {
          "base_uri": "https://localhost:8080/"
        },
        "id": "53894434",
        "outputId": "cda2bf12-f79c-4381-cb92-0431ba2d4967"
      },
      "outputs": [
        {
          "output_type": "stream",
          "name": "stdout",
          "text": [
            "Player 1? rock\n",
            "Player 2? scissors\n",
            "Player 1 wins!\n"
          ]
        }
      ],
      "source": [
        "player1_choice = input(\"Player 1? \").lower()\n",
        "player2_choice = input(\"Player 2? \").lower()\n",
        "\n",
        "if player1_choice == player2_choice:\n",
        "    print(\"Oops!Try again :)\")\n",
        "elif (player1_choice == 'rock' and player2_choice == 'scissors') or \\\n",
        "     (player1_choice == 'paper' and player2_choice == 'rock') or \\\n",
        "     (player1_choice == 'scissors' and player2_choice == 'paper'):\n",
        "    print(\"Player 1 wins!\")\n",
        "elif (player2_choice == 'rock' and player1_choice == 'scissors') or \\\n",
        "     (player2_choice == 'paper' and player1_choice == 'rock') or \\\n",
        "     (player2_choice == 'scissors' and player1_choice == 'paper'):\n",
        "    print(\"Player 2 wins!\")\n",
        "else:\n",
        "    print(\"This input is not valid for our game!\")\n"
      ]
    },
    {
      "cell_type": "markdown",
      "id": "89040ea7",
      "metadata": {
        "id": "89040ea7"
      },
      "source": [
        "## Task 3  (0.5 points)\n",
        "\n",
        "Write a program to generate the following output by a for loop:\n",
        "\n",
        "Output:\n",
        "\n",
        "```\n",
        "*\n",
        "**\n",
        "***\n",
        "****\n",
        "*****\n",
        "******\n",
        "*******\n",
        "******\n",
        "*****\n",
        "****\n",
        "***\n",
        "**\n",
        "*\n",
        "```"
      ]
    },
    {
      "cell_type": "code",
      "execution_count": 7,
      "id": "782170f2",
      "metadata": {
        "colab": {
          "base_uri": "https://localhost:8080/"
        },
        "id": "782170f2",
        "outputId": "adc317c4-8db7-4b4e-d902-0ef49df62655"
      },
      "outputs": [
        {
          "output_type": "stream",
          "name": "stdout",
          "text": [
            "*\n",
            "**\n",
            "***\n",
            "****\n",
            "*****\n",
            "******\n",
            "*******\n",
            "******\n",
            "*****\n",
            "****\n",
            "***\n",
            "**\n",
            "*\n"
          ]
        }
      ],
      "source": [
        "for i in range(1, 8):\n",
        "    print('*' * i)\n",
        "\n",
        "for i in range(6, 0, -1):\n",
        "    print('*' * i)\n",
        "\n"
      ]
    },
    {
      "cell_type": "markdown",
      "id": "9f0f0213",
      "metadata": {
        "id": "9f0f0213"
      },
      "source": [
        "## Task 4  (0.5 points)\n",
        "\n",
        "**Step 1**: Write a program that returns a list that contains only the elements that are common between the provided lists (without duplicates). Be sure that your program `also` works on the two lists with different sizes.\n",
        "\n",
        "```\n",
        "a = [2, 2, 3, 1, 1, 1, 1, 3, 2, 2, 6, 5, 4, 7, 8, 31]\n",
        "b = [2, 7, 4, 6, 7, 4, 2, 31, 2, 5, 11, 1, 2, 1, 3, 1, 7, 9, 5]\n",
        "```"
      ]
    },
    {
      "cell_type": "code",
      "execution_count": 17,
      "id": "c79ed191",
      "metadata": {
        "colab": {
          "base_uri": "https://localhost:8080/"
        },
        "id": "c79ed191",
        "outputId": "13fde9f3-cc6c-42d0-dfe0-1cae4465234a"
      },
      "outputs": [
        {
          "output_type": "stream",
          "name": "stdout",
          "text": [
            "Common elements: [2, 3, 1, 6, 5, 4, 7, 31]\n"
          ]
        }
      ],
      "source": [
        "def find_common_elements(list1, list2):\n",
        "    common_elements = []\n",
        "    for item in list1:\n",
        "        if item in list2 and item not in common_elements:\n",
        "            common_elements.append(item)\n",
        "    return common_elements\n",
        "a = [2, 2, 3, 1, 1, 1, 1, 3, 2, 2, 6, 5, 4, 7, 8, 31]\n",
        "b = [2, 7, 4, 6, 7, 4, 2, 31, 2, 5, 11, 1, 2, 1, 3, 1, 7, 9, 5]\n",
        "common_elements = find_common_elements(a, b)\n",
        "\n",
        "print(\"Common elements:\", common_elements)"
      ]
    },
    {
      "cell_type": "code",
      "source": [
        "#2nd method\n",
        "def find_common_elements(a, b):\n",
        "    set_a = set(a)\n",
        "    set_b = set(b)\n",
        "    common_elements = set_a.intersection(set_b)\n",
        "    return list(common_elements)\n",
        "a = [2, 2, 3, 1, 1, 1, 1, 3, 2, 2, 6, 5, 4, 7, 8, 31]\n",
        "b = [2, 7, 4, 6, 7, 4, 2, 31, 2, 5, 11, 1, 2, 1, 3, 1, 7, 9, 5]\n",
        "\n",
        "common_list = find_common_elements(a, b)\n",
        "print(common_list)"
      ],
      "metadata": {
        "colab": {
          "base_uri": "https://localhost:8080/"
        },
        "id": "UB4jKiNLtaRX",
        "outputId": "24580c8a-2e7b-4ab2-b651-cc8aa6f2d3ae"
      },
      "id": "UB4jKiNLtaRX",
      "execution_count": 19,
      "outputs": [
        {
          "output_type": "stream",
          "name": "stdout",
          "text": [
            "[1, 2, 3, 4, 5, 6, 7, 31]\n"
          ]
        }
      ]
    },
    {
      "cell_type": "markdown",
      "id": "8a0edbe2",
      "metadata": {
        "id": "8a0edbe2"
      },
      "source": [
        "## Task 5  (0.5 point)\n",
        "\n",
        "Write a program to ask the user to insert a string, and print out whether this string is a palindrome or not.\n",
        "\n",
        "**Note:** A string is said to be a palindrome if it is the same if we start reading it from left to right or right to left."
      ]
    },
    {
      "cell_type": "code",
      "execution_count": 23,
      "id": "5414b2cf",
      "metadata": {
        "colab": {
          "base_uri": "https://localhost:8080/"
        },
        "id": "5414b2cf",
        "outputId": "9ea5ac16-2983-4653-b981-bb27b5cf6468"
      },
      "outputs": [
        {
          "output_type": "stream",
          "name": "stdout",
          "text": [
            "Enter a string: ollo\n",
            "This string is a palindrome.\n"
          ]
        }
      ],
      "source": [
        "def is_palindrome(string):\n",
        "    string = string.replace(\" \", \"\").lower()\n",
        "    return string == string[::-1]\n",
        "\n",
        "user_string = input(\"Enter a string: \")\n",
        "if is_palindrome(user_string):\n",
        "    print(\"This string is a palindrome.\")\n",
        "else:\n",
        "    print(\"This string isn't a palindrome.\")"
      ]
    },
    {
      "cell_type": "markdown",
      "id": "63c550f5",
      "metadata": {
        "id": "63c550f5"
      },
      "source": [
        "## Task 6  (0.5 point)\n",
        "\n",
        "Let's consider we have saved a list in a variable. E.g. `my_list = [2, 5, 4, 4, 6, 7, 5, 6, 9, 22, 23, 44, 32]`\n",
        "\n",
        "Write a program that takes this list and makes a new list that has only the odd elements of this list in it."
      ]
    },
    {
      "cell_type": "code",
      "execution_count": 25,
      "id": "90fcc676",
      "metadata": {
        "colab": {
          "base_uri": "https://localhost:8080/"
        },
        "id": "90fcc676",
        "outputId": "69f55f69-d8ec-41c6-9dd5-a6cb9e9c03a6"
      },
      "outputs": [
        {
          "output_type": "stream",
          "name": "stdout",
          "text": [
            "[5, 7, 5, 9, 23]\n"
          ]
        }
      ],
      "source": [
        "my_list = [2, 5, 4, 4, 6, 7, 5, 6, 9, 22, 23, 44, 32]\n",
        "odd_list = [num for num in my_list if num % 2 != 0]\n",
        "print(odd_list)\n"
      ]
    }
  ],
  "metadata": {
    "kernelspec": {
      "display_name": "Python 3 (ipykernel)",
      "language": "python",
      "name": "python3"
    },
    "language_info": {
      "codemirror_mode": {
        "name": "ipython",
        "version": 3
      },
      "file_extension": ".py",
      "mimetype": "text/x-python",
      "name": "python",
      "nbconvert_exporter": "python",
      "pygments_lexer": "ipython3",
      "version": "3.10.9"
    },
    "colab": {
      "provenance": []
    }
  },
  "nbformat": 4,
  "nbformat_minor": 5
}