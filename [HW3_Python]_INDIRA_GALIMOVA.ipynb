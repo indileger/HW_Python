{
  "cells": [
    {
      "cell_type": "markdown",
      "id": "8f868eb6",
      "metadata": {
        "id": "8f868eb6"
      },
      "source": [
        "# Homework 3 - Python\n",
        "\n",
        "First Name: Indira\n",
        "\n",
        "Last Name:Galimova\n",
        "\n",
        "Group:pd2023/2025\n",
        "\n",
        "### After the assigment is done, please, push it to your [private GitHub repository](https://docs.github.com/en/github/administering-a-repository/managing-repository-settings/setting-repository-visibility) and invite [Majid-Sohrabi](https://github.com/Majid-Sohrabi)  as [collaborator](https://docs.github.com/en/account-and-profile/setting-up-and-managing-your-github-user-account/managing-access-to-your-personal-repositories/inviting-collaborators-to-a-personal-repository)."
      ]
    },
    {
      "cell_type": "markdown",
      "id": "f47683d8",
      "metadata": {
        "id": "f47683d8"
      },
      "source": [
        "## Task 1  (2 points) - Currency Converter cum Calculator\n",
        "\n",
        "\n",
        "Let's create a Currency Calculator that can convert between USD, RUB, EUR, and AED. For conversion rate you can refer : [CBR Exchange rate](https://www.cbr.ru/eng/currency_base/daily/)\n",
        "\n",
        "After doing so , Perform below task with your currency calculator\n",
        "\n",
        "**1.** Ask a user, The amount they wish to convert (in any unit), The currency they want to convert from, The currency they want to convert to. Print final amount with clear statement.\n",
        "\n",
        "**2.** Convert EUR to RUB on two different dates: i.e. February 1, 2024, and March 7, 2024. Display the difference in conversion rates and the duration between the two dates in weeks, months, or years. ( Use [CBR Exchange rate](https://www.cbr.ru/eng/currency_base/daily/)) if you are using different dates clearly print in your code)\n",
        "\n",
        "**3.** You're tasked with determining the amount of AED:\n",
        "You want to buy USD (United States Dollar) in Moscow using RUB (Russian Ruble) and then sell the USD in Dubai to get AED (United Arab Emirates Dirham).\n",
        "\n",
        "Given:\n",
        "\n",
        "Buying USD in Moscow:\n",
        "*   Amount: 50000 RUB\n",
        "*   Buy Commission: 0.12%\n",
        "\n",
        "Selling USD in Dubai to get AED:\n",
        "*   Sale Commission: 0.15%\n",
        "\n",
        "Print : What amount of AED will be in your hand in Dubai?\n",
        "\n",
        "\n",
        "**4.** On 1st June 2023, you plan to buy USD from four different banks, each charging a commission. After a sudden increase in the exchange rate, on 2nd February 2024, you intend to sell the USD back to these banks, again with commissions applied. Your goal is to determine which bank option will result in the most profitable.\n",
        "\n",
        "Given:\n",
        "\n",
        "Buying USD on 1st June 2023:\n",
        "*   Exchange rate: 1 USD = 81 RUB\n",
        "> Banks and their commissions:\n",
        "*   Kazan Bank: 0.122%\n",
        "*   Sber Bank: 0.131%\n",
        "*   JSC VTB: 0.174%\n",
        "*   Fora Bank: 0.156%\n",
        "\n",
        "Selling USD on 2nd February 2024:\n",
        "\n",
        "*   Exchange rate: 1 USD = 92.5 RUB\n",
        "> Banks and their commissions:\n",
        "*   Kazan Bank: 0.221%\n",
        "*   Sber Bank: 0.202%\n",
        "*   JSC VTB: 0.280%\n",
        "*   Fora Bank: 0.192%"
      ]
    },
    {
      "cell_type": "code",
      "execution_count": null,
      "id": "2d62ba3d",
      "metadata": {
        "id": "2d62ba3d",
        "colab": {
          "base_uri": "https://localhost:8080/"
        },
        "outputId": "de82a443-5778-4772-9a58-255186905d1d"
      },
      "outputs": [
        {
          "output_type": "stream",
          "name": "stdout",
          "text": [
            "Enter the amount you wish to convert: 5000\n",
            "Currency, from (USD, RUB, EUR, AED): EUR\n",
            "Currency, to (USD, RUB, EUR, AED): AED\n",
            "Your total after conversion is: 21150.00 AED\n",
            "\n",
            "\n",
            "Difference in conversion rates: 0.0000\n",
            "Duration between the two dates: 10.3 weeks\n",
            "\n",
            "\n",
            "The amount of AED in your hand in Dubai: 49984.98 AED\n",
            "\n",
            "\n",
            "The most profitable option is 'None' with a profit of 0.00 RUB.\n"
          ]
        }
      ],
      "source": [
        "class CurrencyCalculator:\n",
        "    def __init__(self):\n",
        "        self.exchange_rates = {\n",
        "            \"USD\": {\"RUB\": 75.0, \"EUR\": 0.84, \"AED\": 3.67},\n",
        "            \"RUB\": {\"USD\": 0.013, \"EUR\": 0.011, \"AED\": 0.046},\n",
        "            \"EUR\": {\"USD\": 1.19, \"RUB\": 90.9, \"AED\": 4.23},\n",
        "            \"AED\": {\"USD\": 0.27, \"RUB\": 21.86, \"EUR\": 0.24}\n",
        "        }\n",
        "        self.commissions = {\n",
        "            \"buy\": 0.0012,\n",
        "            \"sell\": 0.0015\n",
        "        }\n",
        "\n",
        "    def convert_currency(self, amount, from_currency, to_currency):\n",
        "        if from_currency not in self.exchange_rates or to_currency not in self.exchange_rates:\n",
        "            return \"Invalid currency.\"\n",
        "        if from_currency == to_currency:\n",
        "            return amount\n",
        "        exchange_rate = self.exchange_rates[from_currency][to_currency]\n",
        "        converted_amount = amount * exchange_rate\n",
        "        return converted_amount\n",
        "    def calculate_commission(self, amount, commission_type):\n",
        "        commission_rate = self.commissions[commission_type]\n",
        "        commission_amount = amount * commission_rate\n",
        "        return commission_amount\n",
        "    def buy_usd_in_moscow(self, amount):\n",
        "        return amount / (1 - self.commissions[\"buy\"])\n",
        "    def sell_usd_in_dubai(self, amount):\n",
        "        return amount * (1 - self.commissions[\"sell\"])\n",
        "\n",
        "def task_1():\n",
        "    calculator = CurrencyCalculator()\n",
        "\n",
        "    amount = float(input(\"Enter the amount you wish to convert: \"))\n",
        "    from_currency = input(\"Currency, from (USD, RUB, EUR, AED): \").upper()\n",
        "    to_currency = input(\"Currency, to (USD, RUB, EUR, AED): \").upper()\n",
        "\n",
        "    converted_amount = calculator.convert_currency(amount, from_currency, to_currency)\n",
        "    print(f\"Your total after conversion is: {converted_amount:.2f} {to_currency}\")\n",
        "\n",
        "def task_2():\n",
        "    calculator = CurrencyCalculator()\n",
        "    rate_feb_1 = calculator.exchange_rates[\"EUR\"][\"RUB\"]\n",
        "    rate_mar_7 = calculator.exchange_rates[\"EUR\"][\"RUB\"]\n",
        "    difference = rate_mar_7 - rate_feb_1\n",
        "    print(f\"Difference in conversion rates: {difference:.4f}\")\n",
        "\n",
        "    duration_in_days = (31 + 6) + (28 + 7)  # February + March\n",
        "    duration_in_weeks = duration_in_days / 7\n",
        "    print(f\"Duration between the two dates: {duration_in_weeks:.1f} weeks\")\n",
        "\n",
        "def task_3():\n",
        "    calculator = CurrencyCalculator()\n",
        "    amount_rub_moscow = 50000\n",
        "    usd_in_moscow = calculator.buy_usd_in_moscow(amount_rub_moscow)\n",
        "    amount_aed_dubai = calculator.sell_usd_in_dubai(usd_in_moscow)\n",
        "    print(f\"The amount of AED in your hand in Dubai: {amount_aed_dubai:.2f} AED\")\n",
        "\n",
        "def task_4():\n",
        "    calculator = CurrencyCalculator()\n",
        "    #USD buying\n",
        "    banks_buy = {\n",
        "        \"Kazan Bank\": 0.00122,\n",
        "        \"Sber Bank\": 0.00131,\n",
        "        \"JSC VTB\": 0.00174,\n",
        "        \"Fora Bank\": 0.00156\n",
        "    }\n",
        "\n",
        "    # USD selling\n",
        "    banks_sell = {\n",
        "        \"Kazan Bank\": 0.00221,\n",
        "        \"Sber Bank\": 0.00202,\n",
        "        \"JSC VTB\": 0.00280,\n",
        "        \"Fora Bank\": 0.00192\n",
        "    }\n",
        "\n",
        "    initial_rub_amount = 50000  # Initial amount in RUB\n",
        "    usd_amount = initial_rub_amount / calculator.exchange_rates[\"USD\"][\"RUB\"]\n",
        "\n",
        "    max_profit = 0\n",
        "    best_option = None\n",
        "\n",
        "    for bank, buy_commission in banks_buy.items():\n",
        "        usd_amount_after_buy = usd_amount / (1 - buy_commission)\n",
        "        final_rub_amount = usd_amount_after_buy * calculator.exchange_rates[\"USD\"][\"RUB\"]\n",
        "        for _, sell_commission in banks_sell.items():\n",
        "            rub_amount_after_sell = final_rub_amount * (1 - sell_commission)\n",
        "            profit = rub_amount_after_sell - initial_rub_amount\n",
        "            if profit > max_profit:\n",
        "                max_profit = profit\n",
        "                best_option = bank\n",
        "\n",
        "    print(f\"The most profitable option is '{best_option}' with a profit of {max_profit:.2f} RUB.\")\n",
        "\n",
        "# Performing tasks\n",
        "if __name__ == \"__main__\":\n",
        "    task_1()\n",
        "    print(\"\\n\")\n",
        "    task_2()\n",
        "    print(\"\\n\")\n",
        "    task_3()\n",
        "    print(\"\\n\")\n",
        "    task_4()\n"
      ]
    },
    {
      "cell_type": "markdown",
      "id": "89040ea7",
      "metadata": {
        "id": "89040ea7"
      },
      "source": [
        "## Task 2  (0.5 points)\n",
        "\n",
        "You're task is to creat a Python program that analyzes a piece of text and provides the frequency of each word in it. The program should use a user-defined function that takes the text as input and returns a dictionary where the keys are the words in the text and the values are the frequencies of those words. Also, print most frequent word in text.\n",
        "\n",
        "Your program should allow the user to input any text and then display the word frequency dictionary."
      ]
    },
    {
      "cell_type": "code",
      "execution_count": null,
      "id": "782170f2",
      "metadata": {
        "id": "782170f2"
      },
      "outputs": [],
      "source": [
        "def calculate_word_frequency(text):\n",
        "    word_freq = {}\n",
        "    words = text.split()\n",
        "    for word in words:\n",
        "        word = word.lower()\n",
        "        if word in word_freq:\n",
        "            word_freq[word] += 1\n",
        "        else:\n",
        "            word_freq[word] = 1\n",
        "    return word_freq\n",
        "def display_word_frequency(word_freq):\n",
        "    print(\"\\nWord frequency:\")\n",
        "    for word, freq in word_freq.items():\n",
        "        print(f\"{word}: {freq}\")\n",
        "def find_most_frequent_word(word_freq):\n",
        "    most_frequent_word = max(word_freq, key=word_freq.get)\n",
        "    return most_frequent_word\n",
        "def main():\n",
        "    print(\"Welcome to the Word Frequency Analyzer!\")\n",
        "    print(\"Just type in some text, and I'll tell you how frequently each word appears, along with the most frequent word.\\n\")\n",
        "    text = input(\"Enter your text: \")\n",
        "    word_freq = calculate_word_frequency(text)\n",
        "    display_word_frequency(word_freq)\n",
        "    most_frequent_word = find_most_frequent_word(word_freq)\n",
        "    print(\"\\nMost frequent word:\", most_frequent_word)\n",
        "\n",
        "if __name__ == \"__main__\":\n",
        "    main()"
      ]
    },
    {
      "cell_type": "markdown",
      "id": "9f0f0213",
      "metadata": {
        "id": "9f0f0213"
      },
      "source": [
        "## Task 3 - Shopping Inventory (1 points)\n",
        "\n",
        "You are given an inventory of items available in a shopping market represented as a dictionary where the keys are the item names and the values are the corresponding quantities available. Your task is to create a program that helps users create a sorted shopping list.\n",
        "\n",
        "Your program should:\n",
        "\n",
        "Prompt the user to input the items they want to buy, one at a time.\n",
        "Check if the item is available in the inventory. If it is, add it to the shopping list. If not, inform the user that the item is not available.\n",
        "After the user finishes inputting their items, sort the shopping list alphabetically.\n",
        "Display the sorted shopping list to the user.\n",
        "\n",
        "Sample Shopping list: You can use your or user entered items & values.\n",
        "```\n",
        "    'apple': 10,\n",
        "    'banana': 5,\n",
        "    'orange': 8,\n",
        "    'grapes': 3\n",
        "\n",
        "```"
      ]
    },
    {
      "cell_type": "code",
      "execution_count": null,
      "id": "c79ed191",
      "metadata": {
        "id": "c79ed191",
        "colab": {
          "base_uri": "https://localhost:8080/"
        },
        "outputId": "d17242f7-d6fd-4508-84cb-8881e8b6de09"
      },
      "outputs": [
        {
          "output_type": "stream",
          "name": "stdout",
          "text": [
            "Welcome to our clothing store!\n",
            "Enter the item you want to buy (or type 'done' to finish): shoes\n",
            "'shoes' added to the shopping list!\n",
            "Enter the item you want to buy (or type 'done' to finish): jeans\n",
            "'jeans' added to the shopping list!\n",
            "Enter the item you want to buy (or type 'done' to finish): jeans\n",
            "'jeans' added to the shopping list!\n",
            "Enter the item you want to buy (or type 'done' to finish): dress\n",
            "'dress' added to the shopping list!\n",
            "Enter the item you want to buy (or type 'done' to finish): done\n",
            "\n",
            "Your sorted shopping list:\n",
            "dress\n",
            "jeans\n",
            "jeans\n",
            "shoes\n"
          ]
        }
      ],
      "source": [
        "def create_shopping_list(inventory):\n",
        "    shopping_list = []\n",
        "    while True:\n",
        "        item = input(\"Enter the item you want to buy (or type 'done' to finish): \").lower()\n",
        "        if item == 'done':\n",
        "            break\n",
        "        elif item in inventory and inventory[item] > 0:\n",
        "            shopping_list.append(item)\n",
        "            print(f\"'{item}' added to the shopping list!\")\n",
        "            inventory[item] -= 1\n",
        "        else:\n",
        "            print(f\"'{item}' is not available in our store at the moment.\")\n",
        "    shopping_list.sort()\n",
        "    return shopping_list\n",
        "def main():\n",
        "    inventory = {\n",
        "        \"t-shirt\": 10,\n",
        "        \"jeans\": 5,\n",
        "        \"dress\": 8,\n",
        "        \"sweater\": 6,\n",
        "        \"jacket\": 3,\n",
        "        \"shoes\": 7\n",
        "    }\n",
        "    print(\"Welcome to our clothing store!\")\n",
        "    shopping_list = create_shopping_list(inventory)\n",
        "    print(\"\\nYour sorted shopping list:\")\n",
        "    for item in shopping_list:\n",
        "        print(item)\n",
        "if __name__ == \"__main__\":\n",
        "    main()"
      ]
    },
    {
      "cell_type": "markdown",
      "id": "8a0edbe2",
      "metadata": {
        "id": "8a0edbe2"
      },
      "source": [
        "## Task 4  (0.5 point)\n",
        "\n",
        "Ask a user to enter time stamp in the format (hour, minute, second) use comma separated value or separate block. Your task is to first print each timestamp in the list and then convert this stamp in seconds."
      ]
    },
    {
      "cell_type": "code",
      "execution_count": null,
      "id": "5414b2cf",
      "metadata": {
        "id": "5414b2cf",
        "colab": {
          "base_uri": "https://localhost:8080/"
        },
        "outputId": "db455af8-c4eb-4be5-a789-0e20c11e1a5e"
      },
      "outputs": [
        {
          "output_type": "stream",
          "name": "stdout",
          "text": [
            "Welcome to the Timestamp Converter!\n",
            "Please enter timestamps in the format HH:MM:SS.\n",
            "Enter 'done' when you are finished.\n",
            "\n",
            "Enter timestamp (or type 'done' to finish): 04:05:34\n",
            "Enter timestamp (or type 'done' to finish): DONE\n",
            "\n",
            "Timestamps and their equivalent seconds:\n",
            "1. 4 hours, 5 minutes, 34 seconds - 14734 seconds\n"
          ]
        }
      ],
      "source": [
        "def convert_to_seconds(hour, minute, second):\n",
        "    return hour * 3600 + minute * 60 + second\n",
        "def main():\n",
        "    print(\"Welcome to the Timestamp Converter!\")\n",
        "    print(\"Please enter timestamps in the format HH:MM:SS.\")\n",
        "    print(\"Enter 'done' when you are finished.\\n\")\n",
        "    timestamps = []\n",
        "    while True:\n",
        "        timestamp = input(\"Enter timestamp (or type 'done' to finish): \").strip().lower()\n",
        "        if timestamp == 'done':\n",
        "            break\n",
        "        try:\n",
        "            hour, minute, second = map(int, timestamp.split(':'))\n",
        "            total_seconds = convert_to_seconds(hour, minute, second)\n",
        "            timestamps.append((hour, minute, second, total_seconds))\n",
        "        except ValueError:\n",
        "            print(\"Invalid input. Please enter timestamps in the format (hour, minute, second), separated by commas.\")\n",
        "    print(\"\\nTimestamps and their equivalent seconds:\")\n",
        "    for index, (hour, minute, second, total_seconds) in enumerate(timestamps, start=1):\n",
        "        print(f\"{index}. {hour} hours, {minute} minutes, {second} seconds - {total_seconds} seconds\")\n",
        "if __name__ == \"__main__\":\n",
        "    main()"
      ]
    }
  ],
  "metadata": {
    "colab": {
      "provenance": []
    },
    "kernelspec": {
      "display_name": "Python 3 (ipykernel)",
      "language": "python",
      "name": "python3"
    },
    "language_info": {
      "codemirror_mode": {
        "name": "ipython",
        "version": 3
      },
      "file_extension": ".py",
      "mimetype": "text/x-python",
      "name": "python",
      "nbconvert_exporter": "python",
      "pygments_lexer": "ipython3",
      "version": "3.10.9"
    }
  },
  "nbformat": 4,
  "nbformat_minor": 5
}