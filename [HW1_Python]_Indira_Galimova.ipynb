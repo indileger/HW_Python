{
  "cells": [
    {
      "cell_type": "markdown",
      "id": "8f868eb6",
      "metadata": {
        "id": "8f868eb6"
      },
      "source": [
        "# Homework 1 - Python\n",
        "\n",
        "First Name:\n",
        "Indira\n",
        "Last Name:\n",
        "Galimova\n",
        "Group:\n",
        "PD2023/2025\n",
        "### After the assigment is done, please, push it to your [private GitHub repository](https://docs.github.com/en/github/administering-a-repository/managing-repository-settings/setting-repository-visibility) and invite [Majid-Sohrabi](https://github.com/Majid-Sohrabi)  as [collaborator](https://docs.github.com/en/account-and-profile/setting-up-and-managing-your-github-user-account/managing-access-to-your-personal-repositories/inviting-collaborators-to-a-personal-repository)."
      ]
    },
    {
      "cell_type": "markdown",
      "id": "f47683d8",
      "metadata": {
        "id": "f47683d8"
      },
      "source": [
        "## Task 1  (0.5 point)\n",
        "\n",
        "Write a program that takes two numbers as input and prints whether the first number is greater than, less than, or equal to the second number."
      ]
    },
    {
      "cell_type": "code",
      "execution_count": null,
      "id": "2d62ba3d",
      "metadata": {
        "colab": {
          "base_uri": "https://localhost:8080/"
        },
        "id": "2d62ba3d",
        "outputId": "5b1ea63b-6789-4b8b-e840-3407b812fe14"
      },
      "outputs": [
        {
          "output_type": "stream",
          "name": "stdout",
          "text": [
            "Indicate the first number: 5\n",
            "Indicate the second number: 6\n",
            "5 is less than 6\n"
          ]
        }
      ],
      "source": [
        "num1 = int(input(\"Indicate the first number: \"))\n",
        "num2 = int(input(\"Indicate the second number: \"))\n",
        "\n",
        "if num1 > num2:\n",
        "    print(f\"{num1} is greater than {num2}\")\n",
        "elif num1 < num2:\n",
        "    print(f\"{num1} is less than {num2}\")\n",
        "else:\n",
        "    print(f\"{num1} is equal to {num2}\")\n"
      ]
    },
    {
      "cell_type": "markdown",
      "id": "d03af2f7",
      "metadata": {
        "id": "d03af2f7"
      },
      "source": [
        "## Task 2 (0.5 point)\n",
        "\n",
        "Write a program that receives a positive integer `N` from the user, the task is to find following formula:\n",
        "\n",
        "$$\n",
        "1^2 + 2^3 + 3^2 + ... + N^2 (or N^3)\n",
        "$$\n",
        "\n",
        "1. If the number is odd then rais to the power of 2.\n",
        "2. If the numner is even then rais to the power of 3.\n",
        "\n",
        "\n",
        "Example:\n",
        "\n",
        "$$\n",
        "N = 5\n",
        "$$\n",
        "\n",
        "$$\n",
        "1^2 + 2^3 + 3^2 + 4^3 + 5^2 = (1 + 8 + 9 + 64 + 25) = 107\n",
        "$$\n"
      ]
    },
    {
      "cell_type": "code",
      "execution_count": null,
      "id": "53894434",
      "metadata": {
        "colab": {
          "base_uri": "https://localhost:8080/"
        },
        "id": "53894434",
        "outputId": "10d8ec75-bca0-48a0-b1e5-17b4a6455bc9"
      },
      "outputs": [
        {
          "output_type": "stream",
          "name": "stdout",
          "text": [
            "Type a positive integer: 8\n",
            "884\n"
          ]
        }
      ],
      "source": [
        "N = int(input(\"Type a positive integer: \"))\n",
        "\n",
        "result = 0\n",
        "for i in range(1, N+1):\n",
        "    if i % 2 == 0:\n",
        "        result += i**3\n",
        "    else:\n",
        "        result += i**2\n",
        "\n",
        "print(result)\n"
      ]
    },
    {
      "cell_type": "markdown",
      "id": "89040ea7",
      "metadata": {
        "id": "89040ea7"
      },
      "source": [
        "## Task 3  (0.5 points)\n",
        "\n",
        "Write a python program to rotate the elements of an array with an arbitrary direction (left or right) and arbitrary number or elements.\n",
        "\n",
        "1. The user need to insert the term ('left' or 'right') which shows the direction of the rotation.\n",
        "2. The user need to insert the number d which specifies how many elements need to be rotated.\n",
        "\n",
        "```"
      ]
    },
    {
      "cell_type": "code",
      "execution_count": null,
      "id": "782170f2",
      "metadata": {
        "id": "782170f2"
      },
      "outputs": [],
      "source": []
    },
    {
      "cell_type": "markdown",
      "id": "9f0f0213",
      "metadata": {
        "id": "9f0f0213"
      },
      "source": [
        "## Task 4  (0.5 points)\n",
        "\n",
        "Write a program that takes an integer as input and prints whether it is even or odd."
      ]
    },
    {
      "cell_type": "code",
      "execution_count": null,
      "id": "c79ed191",
      "metadata": {
        "colab": {
          "base_uri": "https://localhost:8080/"
        },
        "id": "c79ed191",
        "outputId": "0ce5cda4-9bc5-400d-fdde-5c929278ef48"
      },
      "outputs": [
        {
          "output_type": "stream",
          "name": "stdout",
          "text": [
            "Enter the direction of rotation (left/right): left\n",
            "Enter the number of elements to rotate: 3\n",
            "Rotated array: [44, 45, 13, 25, 35]\n"
          ]
        }
      ],
      "source": [
        "def rotate_array(arr, direction, d):\n",
        "    n = len(arr)\n",
        "    if direction == 'left':\n",
        "        d = d % n\n",
        "        arr[:] = arr[d:] + arr[:d]\n",
        "    elif direction == 'right':\n",
        "        d = d % n\n",
        "        arr[:] = arr[-d:] + arr[:-d]\n",
        "    return arr\n",
        "\n",
        "arr = [13, 25, 35, 44, 45]\n",
        "direction = input(\"Enter the direction of rotation (left/right): \")\n",
        "d = int(input(\"Enter the number of elements to rotate: \"))\n",
        "rotated_arr = rotate_array(arr, direction, d)\n",
        "print(\"Rotated array:\", rotated_arr)\n"
      ]
    },
    {
      "cell_type": "markdown",
      "id": "8a0edbe2",
      "metadata": {
        "id": "8a0edbe2"
      },
      "source": [
        "## Task 5  (0.5 point)\n",
        "\n",
        "Write a program that splits a list by an index inserted by the user, then cut the list from that index and attach the right part to the beginning of the list.\n",
        "\n",
        "Example:\n",
        "\n",
        "\n",
        "list: [1, 2, 3, 4, **5, 6, 7**]\n",
        "\n",
        "new list: [**5, 6, 7**, 1, 2, 3, 4]"
      ]
    },
    {
      "cell_type": "code",
      "execution_count": null,
      "id": "5414b2cf",
      "metadata": {
        "colab": {
          "base_uri": "https://localhost:8080/"
        },
        "id": "5414b2cf",
        "outputId": "3e3fd374-7df9-4677-c73f-b45cef90adba"
      },
      "outputs": [
        {
          "output_type": "stream",
          "name": "stdout",
          "text": [
            "Indicate the index:5\n",
            "New list: [16, 10, 11, 12, 13, 14, 15]\n"
          ]
        }
      ],
      "source": [
        "def split_and_rotate(lst, index):\n",
        "    if index >= len(lst):\n",
        "        return \"Index out of range\"\n",
        "\n",
        "    split_point = index + 1\n",
        "    left_part = lst[:split_point]\n",
        "    right_part = lst[split_point:]\n",
        "    new_list = right_part + left_part\n",
        "    return new_list\n",
        "my_list = [10, 11, 12, 13, 14, 15, 16]\n",
        "index = int(input(\"Indicate the index:\"))\n",
        "result = split_and_rotate(my_list, index)\n",
        "print(\"New list:\", result)"
      ]
    },
    {
      "cell_type": "markdown",
      "id": "63c550f5",
      "metadata": {
        "id": "63c550f5"
      },
      "source": [
        "## Task 6  (0.5 point)\n",
        "\n",
        "Write a program that takes a numeric grade as input and prints the corresponding letter grade (A, B, C, D, or F) according to the following criteria: A: 90-100, B: 80-89, C: 70-79, D: 60-69, F: 0-59."
      ]
    },
    {
      "cell_type": "code",
      "execution_count": 23,
      "id": "90fcc676",
      "metadata": {
        "id": "90fcc676",
        "colab": {
          "base_uri": "https://localhost:8080/"
        },
        "outputId": "e1a77be3-05a3-495e-933a-fb85883c728f"
      },
      "outputs": [
        {
          "output_type": "stream",
          "name": "stdout",
          "text": [
            "The numeric grade: 65\n",
            "The corresponding letter grade is: D\n"
          ]
        }
      ],
      "source": [
        "def show_letter_grade(grade):\n",
        "    if grade >= 90:\n",
        "        return 'A'\n",
        "    elif grade >= 80:\n",
        "        return 'B'\n",
        "    elif grade >= 70:\n",
        "        return 'C'\n",
        "    elif grade >= 60:\n",
        "        return 'D'\n",
        "    else:\n",
        "        return 'F'\n",
        "\n",
        "def main():\n",
        "    numeric_grade = float(input(\"The numeric grade: \"))\n",
        "    letter_grade = show_letter_grade(numeric_grade)\n",
        "    print(\"The corresponding letter grade is:\", letter_grade)\n",
        "\n",
        "if __name__ == \"__main__\":\n",
        "    main()"
      ]
    },
    {
      "cell_type": "markdown",
      "id": "fb3f7250",
      "metadata": {
        "id": "fb3f7250"
      },
      "source": [
        "## Task 7  (0.5 point)\n",
        "\n",
        "Write a program that takes a year as input and prints whether it is a leap year or not. Leap years are divisible by 4, but not by 100 unless also divisible by 400."
      ]
    },
    {
      "cell_type": "code",
      "execution_count": 27,
      "id": "159f06e3",
      "metadata": {
        "id": "159f06e3",
        "colab": {
          "base_uri": "https://localhost:8080/"
        },
        "outputId": "6721fd8f-a278-4181-9e0f-79ebe9bd8889"
      },
      "outputs": [
        {
          "output_type": "stream",
          "name": "stdout",
          "text": [
            "Enter a year: 1600\n",
            "1600 is a leap year.\n"
          ]
        }
      ],
      "source": [
        "year = int(input(\"Enter a year: \"))\n",
        "\n",
        "if (year % 4 == 0 and year % 100 != 0) or (year % 400 == 0):\n",
        "    print(year, \"is a leap year.\")\n",
        "else:\n",
        "    print(year, \"is not a leap year.\")\n"
      ]
    },
    {
      "cell_type": "markdown",
      "id": "7e46ae74",
      "metadata": {
        "id": "7e46ae74"
      },
      "source": [
        "## Task 8  (0.5 point)\n",
        "\n",
        "Write a program that takes a number as input and prints whether it falls within the range of 1 to 100 (inclusive)."
      ]
    },
    {
      "cell_type": "code",
      "execution_count": 30,
      "id": "142d9d7a",
      "metadata": {
        "id": "142d9d7a",
        "colab": {
          "base_uri": "https://localhost:8080/"
        },
        "outputId": "a0ed34dd-b135-4f01-db3d-631fc18e7781"
      },
      "outputs": [
        {
          "output_type": "stream",
          "name": "stdout",
          "text": [
            "Enter a number: 6789\n",
            "The number does not fall within the range of 1 to 100.\n"
          ]
        }
      ],
      "source": [
        "number = int(input(\"Enter a number: \"))\n",
        "print(\"The number falls within the range of 1 to 100.\"\n",
        "      if 1 <= number <= 100\n",
        "      else \"The number does not fall within the range of 1 to 100.\")\n"
      ]
    },
    {
      "cell_type": "markdown",
      "id": "d1d75ffd",
      "metadata": {
        "id": "d1d75ffd"
      },
      "source": [
        "## Task 9  (0.5 point)\n",
        "\n",
        "Write a program that takes a character (letter) as input and prints whether it is a vowel or a consonant."
      ]
    },
    {
      "cell_type": "code",
      "execution_count": 34,
      "id": "dec0c2b5",
      "metadata": {
        "id": "dec0c2b5",
        "colab": {
          "base_uri": "https://localhost:8080/"
        },
        "outputId": "80fd9723-fc38-43ab-ff83-c8fbb01faf07"
      },
      "outputs": [
        {
          "output_type": "stream",
          "name": "stdout",
          "text": [
            "Enter any letter in English: h\n",
            "h is a consonant.\n"
          ]
        }
      ],
      "source": [
        "char = input(\"Enter any letter in English: \").lower()\n",
        "\n",
        "if char in 'aeiou':\n",
        "    print(char, \"is a vowel.\")\n",
        "else:\n",
        "    print(char, \"is a consonant.\")"
      ]
    },
    {
      "cell_type": "markdown",
      "id": "f026862b",
      "metadata": {
        "id": "f026862b"
      },
      "source": [
        "## Task 10  (0.5 point)\n",
        "\n",
        "Write a program that takes a number representing a day of the week (1 for Monday, 2 for Tuesday, etc.) and prints the corresponding day name."
      ]
    },
    {
      "cell_type": "code",
      "execution_count": 37,
      "id": "139ad2ab",
      "metadata": {
        "id": "139ad2ab",
        "colab": {
          "base_uri": "https://localhost:8080/"
        },
        "outputId": "2a4920cc-6c42-4da4-d1f4-19bc63e615a2"
      },
      "outputs": [
        {
          "output_type": "stream",
          "name": "stdout",
          "text": [
            "Enter a number representing a day of the week (1 for Monday, 2 for Tuesday, etc.): 8\n",
            "There are only 7 days in a week. Try again.\n"
          ]
        }
      ],
      "source": [
        "day_number = int(input(\"Enter a number representing a day of the week (1 for Monday, 2 for Tuesday, etc.): \"))\n",
        "\n",
        "days_of_week = [\"Monday\", \"Tuesday\", \"Wednesday\", \"Thursday\", \"Friday\", \"Saturday\", \"Sunday\"]\n",
        "\n",
        "if 1 <= day_number <= 7:\n",
        "    print(\"The corresponding day is:\", days_of_week[day_number - 1])\n",
        "else:\n",
        "    print(\"There are only 7 days in a week. Try again.\")"
      ]
    }
  ],
  "metadata": {
    "kernelspec": {
      "display_name": "Python 3 (ipykernel)",
      "language": "python",
      "name": "python3"
    },
    "language_info": {
      "codemirror_mode": {
        "name": "ipython",
        "version": 3
      },
      "file_extension": ".py",
      "mimetype": "text/x-python",
      "name": "python",
      "nbconvert_exporter": "python",
      "pygments_lexer": "ipython3",
      "version": "3.10.9"
    },
    "colab": {
      "provenance": []
    }
  },
  "nbformat": 4,
  "nbformat_minor": 5
}